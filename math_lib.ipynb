{
 "cells": [
  {
   "cell_type": "code",
   "execution_count": null,
   "id": "847d47a7",
   "metadata": {},
   "outputs": [],
   "source": [
    "## TODO\n",
    "## Write a set of functions to perform basic mathematical operations like: add, sub, multiply, divide, pow, sqrt\n",
    "## You need to analyze the purpose of given function, and basing on the analysis you need to choose return type, arguments,\n",
    "## logic "
   ]
  },
  {
   "cell_type": "code",
   "execution_count": 1,
   "id": "39a753be",
   "metadata": {},
   "outputs": [],
   "source": [
    "def add(a: int, b: int):\n",
    "    return a + b"
   ]
  },
  {
   "cell_type": "code",
   "execution_count": 2,
   "id": "6dbfe483",
   "metadata": {},
   "outputs": [
    {
     "name": "stdout",
     "output_type": "stream",
     "text": [
      "267\n"
     ]
    }
   ],
   "source": [
    "print(add(55, 212))"
   ]
  },
  {
   "cell_type": "code",
   "execution_count": 6,
   "id": "7ecb2eb0",
   "metadata": {},
   "outputs": [],
   "source": [
    "def sub(a: int, b: int):\n",
    "    return a - b"
   ]
  },
  {
   "cell_type": "code",
   "execution_count": null,
   "id": "13160434",
   "metadata": {},
   "outputs": [],
   "source": [
    "print(sub(652, 237))"
   ]
  },
  {
   "cell_type": "code",
   "execution_count": null,
   "id": "4022e015",
   "metadata": {},
   "outputs": [],
   "source": [
    "def multi(x: int, y):\n",
    "    return x * y"
   ]
  },
  {
   "cell_type": "code",
   "execution_count": null,
   "id": "f4c54521",
   "metadata": {},
   "outputs": [],
   "source": [
    "print(multi(772, 321))"
   ]
  },
  {
   "cell_type": "code",
   "execution_count": null,
   "id": "bf58c934",
   "metadata": {},
   "outputs": [],
   "source": [
    "def div(x: int, y: int):\n",
    "    return x / y"
   ]
  },
  {
   "cell_type": "code",
   "execution_count": null,
   "id": "4dba4f52",
   "metadata": {},
   "outputs": [],
   "source": [
    "print(div(8823, 3))"
   ]
  },
  {
   "cell_type": "code",
   "execution_count": 3,
   "id": "21344211",
   "metadata": {},
   "outputs": [],
   "source": [
    "## homework with power\n",
    "def pow2(x: int, y: int):\n",
    "    return x**y\n"
   ]
  },
  {
   "cell_type": "code",
   "execution_count": 2,
   "id": "97a00458",
   "metadata": {},
   "outputs": [
    {
     "name": "stdout",
     "output_type": "stream",
     "text": [
      "64\n"
     ]
    }
   ],
   "source": [
    "print(pow2(2, 6))"
   ]
  },
  {
   "cell_type": "code",
   "execution_count": 4,
   "id": "9a1be3aa",
   "metadata": {},
   "outputs": [
    {
     "name": "stdout",
     "output_type": "stream",
     "text": [
      "281474976710656\n"
     ]
    }
   ],
   "source": [
    "print(pow2(64, 8))"
   ]
  },
  {
   "cell_type": "code",
   "execution_count": null,
   "id": "3cb8dbb8",
   "metadata": {},
   "outputs": [],
   "source": []
  }
 ],
 "metadata": {
  "kernelspec": {
   "display_name": "Python 3 (ipykernel)",
   "language": "python",
   "name": "python3"
  },
  "language_info": {
   "codemirror_mode": {
    "name": "ipython",
    "version": 3
   },
   "file_extension": ".py",
   "mimetype": "text/x-python",
   "name": "python",
   "nbconvert_exporter": "python",
   "pygments_lexer": "ipython3",
   "version": "3.9.12"
  }
 },
 "nbformat": 4,
 "nbformat_minor": 5
}
